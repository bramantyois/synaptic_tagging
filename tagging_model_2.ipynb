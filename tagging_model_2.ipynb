{
 "cells": [
  {
   "cell_type": "code",
   "execution_count": 4,
   "metadata": {},
   "outputs": [],
   "source": [
    "import numpy as np\n",
    "from scipy.integrate import odeint\n",
    "import matplotlib.pyplot as plt"
   ]
  },
  {
   "cell_type": "code",
   "execution_count": 56,
   "metadata": {},
   "outputs": [],
   "source": [
    "def syntag2(y, t, tc_short, tc_long, stim_func, dopa_func):\n",
    "    \"\"\"synaptic tagging model2. time constant of voltage were modulated by dopamine function\n",
    "\n",
    "    Parameters\n",
    "    ----------\n",
    "    y\n",
    "        tuples of voltage and time constant to be integrated\n",
    "    t\n",
    "        time\n",
    "    tc_short\n",
    "        short time contant when dopamine does not modulating \n",
    "    tc_long\n",
    "        long time constant when dopamine is modulating\n",
    "    stim_func\n",
    "        stimulus function of time\n",
    "    dopa\n",
    "        presence of dopamine\n",
    "    \"\"\"\n",
    "    w, gamma = y\n",
    "    \n",
    "    stim = stim_func(t)\n",
    "\n",
    "    f_w = (-w + stim) / gamma\n",
    "    f_gamma = -gamma * (gamma - tc_long) * (gamma - tc_short) + dopa_func(stim)\n",
    "\n",
    "    return [f_w, f_gamma]"
   ]
  },
  {
   "cell_type": "code",
   "execution_count": 123,
   "metadata": {},
   "outputs": [],
   "source": [
    "DEL_STIM = 1\n",
    "\n",
    "STIM_START = 0.1\n",
    "STIM_STOP = STIM_START + DEL_STIM"
   ]
  },
  {
   "cell_type": "code",
   "execution_count": 124,
   "metadata": {},
   "outputs": [],
   "source": [
    "def stim_func(t):\n",
    "    if t > STIM_START and t <  STIM_STOP:\n",
    "        return 1\n",
    "    return 0\n",
    "\n",
    "def dopa_func(stim):\n",
    "    if stim > 0:\n",
    "        return 1\n",
    "    else:\n",
    "        return 0"
   ]
  },
  {
   "cell_type": "code",
   "execution_count": 125,
   "metadata": {},
   "outputs": [],
   "source": [
    "del_t = 0.01\n",
    "max_t = 40\n",
    "\n",
    "t = np.arange(0, max_t, step=del_t)\n",
    "y0 = 0.1 * np.random.random(2)\n",
    "\n",
    "sol2 = odeint(syntag2, y0, t, args=(0.25, 0.5, stim_func, dopa_func))\n",
    "sol2a = odeint(syntag2, y0, t, args=(1.5, 2, stim_func, dopa_func))"
   ]
  },
  {
   "cell_type": "code",
   "execution_count": 126,
   "metadata": {},
   "outputs": [
    {
     "data": {
      "text/plain": [
       "[<matplotlib.lines.Line2D at 0x7feb7e78cd00>]"
      ]
     },
     "execution_count": 126,
     "metadata": {},
     "output_type": "execute_result"
    },
    {
     "data": {
      "image/png": "[encoded data removed]",
      "text/plain": [
       "<Figure size 432x288 with 1 Axes>"
      ]
     },
     "metadata": {
      "needs_background": "light"
     },
     "output_type": "display_data"
    }
   ],
   "source": [
    "plt.plot(t, sol2[:, 1])\n",
    "plt.plot(t, sol2a[:, 1])"
   ]
  },
  {
   "cell_type": "code",
   "execution_count": 127,
   "metadata": {},
   "outputs": [
    {
     "data": {
      "text/plain": [
       "[<matplotlib.lines.Line2D at 0x7feb7e5f90c0>]"
      ]
     },
     "execution_count": 127,
     "metadata": {},
     "output_type": "execute_result"
    },
    {
     "data": {
      "image/png": "[encoded data removed]",
      "text/plain": [
       "<Figure size 432x288 with 1 Axes>"
      ]
     },
     "metadata": {
      "needs_background": "light"
     },
     "output_type": "display_data"
    }
   ],
   "source": [
    "plt.plot(t, sol2[:, 0])\n",
    "plt.plot(t, sol2a[:, 0])"
   ]
  },
  {
   "cell_type": "code",
   "execution_count": null,
   "metadata": {},
   "outputs": [],
   "source": []
  }
 ],
 "metadata": {
  "kernelspec": {
   "display_name": "Python 3.10.4 64-bit",
   "language": "python",
   "name": "python3"
  },
  "language_info": {
   "codemirror_mode": {
    "name": "ipython",
    "version": 3
   },
   "file_extension": ".py",
   "mimetype": "text/x-python",
   "name": "python",
   "nbconvert_exporter": "python",
   "pygments_lexer": "ipython3",
   "version": "3.10.4"
  },
  "orig_nbformat": 4,
  "vscode": {
   "interpreter": {
    "hash": "916dbcbb3f70747c44a77c7bcd40155683ae19c65e1c03b4aa3499c5328201f1"
   }
  }
 },
 "nbformat": 4,
 "nbformat_minor": 2
}
