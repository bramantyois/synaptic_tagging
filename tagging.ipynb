{
 "cells": [
  {
   "cell_type": "code",
   "execution_count": 12,
   "metadata": {},
   "outputs": [],
   "source": [
    "import numpy as np\n",
    "from scipy.integrate import odeint\n",
    "import matplotlib.pyplot as plt"
   ]
  },
  {
   "cell_type": "code",
   "execution_count": 8,
   "metadata": {},
   "outputs": [],
   "source": [
    "def syntag1(y, t, tau_w, stim_func, dopa):\n",
    "    \"\"\"synaptic tagging model 1. It uses 2 intermediate variables which then would be summed up\n",
    "\n",
    "    Parameters\n",
    "    ----------\n",
    "    y\n",
    "        tuples of voltage to be integrated\n",
    "    t\n",
    "        time vector\n",
    "    tau_w\n",
    "        time constant of voltage\n",
    "    stim_func\n",
    "        stimulus function of time\n",
    "    dopa\n",
    "        presence of dopamine\n",
    "    \"\"\"\n",
    "    w1, w2 = y\n",
    "\n",
    "    fw1 =  (w1 + stim_func(t))/tau_w\n",
    "\n",
    "    fw2 = -w2*(w2-0.5)*(w2-1) + dopa\n",
    "\n",
    "    return [fw1, fw2]"
   ]
  },
  {
   "cell_type": "code",
   "execution_count": 9,
   "metadata": {},
   "outputs": [],
   "source": [
    "def syntag2(y, t, tc_short, tc_long, stim_func, dopa):\n",
    "    \"\"\"synaptic tagging model2. time constant of voltage were modulated by dopamine function\n",
    "\n",
    "    Parameters\n",
    "    ----------\n",
    "    y\n",
    "        tuples of voltage and time constant to be integrated\n",
    "    t\n",
    "        time\n",
    "    tc_short\n",
    "        short time contant when dopamine does not modulating \n",
    "    tc_long\n",
    "        long time constant when dopamine is modulating\n",
    "    stim_func\n",
    "        stimulus function of time\n",
    "    dopa\n",
    "        presence of dopamine\n",
    "    \"\"\"\n",
    "    w, gamma = y\n",
    "    \n",
    "    fw = (-w + stim_func(t)) * gamma\n",
    "    f_gamma = -gamma * (gamma - 1/tc_long) * (gamma - 1/tc_short) + dopa\n",
    "\n",
    "    return [fw, f_gamma]"
   ]
  },
  {
   "cell_type": "code",
   "execution_count": 10,
   "metadata": {},
   "outputs": [],
   "source": [
    "STIM_START = 0.5\n",
    "STIM_STOP = 1.0\n",
    "\n",
    "def stim_func(t):\n",
    "    if t > STIM_START and t< STIM_STOP:\n",
    "        return 1\n",
    "    return 0"
   ]
  },
  {
   "cell_type": "code",
   "execution_count": 16,
   "metadata": {},
   "outputs": [],
   "source": [
    "t = np.linspace(0, 10, 101)\n",
    "y0 = [0.5, 0.5]\n",
    "\n",
    "sol = odeint(syntag1, y0, t, args=(1, stim_func, 1))"
   ]
  },
  {
   "cell_type": "code",
   "execution_count": 17,
   "metadata": {},
   "outputs": [
    {
     "data": {
      "text/plain": [
       "[<matplotlib.lines.Line2D at 0x7fed8abad850>]"
      ]
     },
     "execution_count": 17,
     "metadata": {},
     "output_type": "execute_result"
    },
    {
     "data": {
      "image/png": "[encoded data removed]",
      "text/plain": [
       "<Figure size 432x288 with 1 Axes>"
      ]
     },
     "metadata": {
      "needs_background": "light"
     },
     "output_type": "display_data"
    }
   ],
   "source": [
    "plt.plot(t, sol[:, 0])"
   ]
  },
  {
   "cell_type": "code",
   "execution_count": 18,
   "metadata": {},
   "outputs": [
    {
     "data": {
      "text/plain": [
       "[<matplotlib.lines.Line2D at 0x7fed99ebcb20>]"
      ]
     },
     "execution_count": 18,
     "metadata": {},
     "output_type": "execute_result"
    },
    {
     "data": {
      "image/png": "[encoded data removed]",
      "text/plain": [
       "<Figure size 432x288 with 1 Axes>"
      ]
     },
     "metadata": {
      "needs_background": "light"
     },
     "output_type": "display_data"
    }
   ],
   "source": [
    "plt.plot(t, sol[:, 1])"
   ]
  },
  {
   "cell_type": "code",
   "execution_count": null,
   "metadata": {},
   "outputs": [],
   "source": []
  }
 ],
 "metadata": {
  "kernelspec": {
   "display_name": "Python 3.8.13 ('py38')",
   "language": "python",
   "name": "python3"
  },
  "language_info": {
   "codemirror_mode": {
    "name": "ipython",
    "version": 3
   },
   "file_extension": ".py",
   "mimetype": "text/x-python",
   "name": "python",
   "nbconvert_exporter": "python",
   "pygments_lexer": "ipython3",
   "version": "3.8.13"
  },
  "orig_nbformat": 4,
  "vscode": {
   "interpreter": {
    "hash": "fece4bd51ccce26fe766d1e9ddbf85db10233a5e96d3cc4fa588d515844463b8"
   }
  }
 },
 "nbformat": 4,
 "nbformat_minor": 2
}
