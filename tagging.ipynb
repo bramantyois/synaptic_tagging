{
 "cells": [
  {
   "cell_type": "code",
   "execution_count": 1,
   "metadata": {},
   "outputs": [
    {
     "name": "stderr",
     "output_type": "stream",
     "text": [
      "/Users/supriyatno/miniconda3/envs/py38/lib/python3.8/site-packages/scipy/__init__.py:146: UserWarning: A NumPy version >=1.16.5 and <1.23.0 is required for this version of SciPy (detected version 1.23.1\n",
      "  warnings.warn(f\"A NumPy version >={np_minversion} and <{np_maxversion}\"\n"
     ]
    }
   ],
   "source": [
    "import numpy as np\n",
    "from scipy.integrate import odeint"
   ]
  },
  {
   "cell_type": "code",
   "execution_count": 5,
   "metadata": {},
   "outputs": [],
   "source": [
    "def syntag1(y, t, tau_w, stim_func, dopa):\n",
    "    \"\"\"synaptic tagging model 1. It uses 2 intermediate variables which then would be summed up\n",
    "\n",
    "    Parameters\n",
    "    ----------\n",
    "    y\n",
    "        tuples of voltage to be integrated\n",
    "    t\n",
    "        time vector\n",
    "    tau_w\n",
    "        time constant of voltage\n",
    "    stim_func\n",
    "        stimulus function of time\n",
    "    dopa\n",
    "        presence of dopamine\n",
    "    \"\"\"\n",
    "    w1, w2 = y\n",
    "\n",
    "    fw1 =  (w1 + stim_func(t))/tau_w\n",
    "\n",
    "    fw2 = -w2*(w2-0.5)*(w1-1) + dopa\n",
    "\n",
    "    return [fw1, fw2]"
   ]
  },
  {
   "cell_type": "code",
   "execution_count": 4,
   "metadata": {},
   "outputs": [],
   "source": [
    "def syntag2(y, t, tc_short, tc_long, stim_func, dopa):\n",
    "    \"\"\"synaptic tagging model2. time constant of voltage were modulated by dopamine function\n",
    "\n",
    "    Parameters\n",
    "    ----------\n",
    "    y\n",
    "        tuples of voltage and time constant to be integrated\n",
    "    t\n",
    "        time\n",
    "    tc_short\n",
    "        short time contant when dopamine does not modulating \n",
    "    tc_long\n",
    "        long time constant when dopamine is modulating\n",
    "    stim_func\n",
    "        stimulus function of time\n",
    "    dopa\n",
    "        presence of dopamine\n",
    "    \"\"\"\n",
    "    w, gamma = y\n",
    "    \n",
    "    fw = (-w + stim_func(t)) * gamma\n",
    "    f_gamma = -gamma * (gamma - 1/tc_long) * (gamma - 1/tc_short) + dopa\n",
    "\n",
    "    return [fw, f_gamma]"
   ]
  },
  {
   "cell_type": "code",
   "execution_count": 6,
   "metadata": {},
   "outputs": [],
   "source": [
    "STIM_START = 0.5\n",
    "STIM_STOP = 1.0\n",
    "\n",
    "def stim_func(t):\n",
    "    if t > STIM_START and t< STIM_STOP:\n",
    "        return 1\n",
    "    return 0"
   ]
  },
  {
   "cell_type": "code",
   "execution_count": null,
   "metadata": {},
   "outputs": [],
   "source": []
  }
 ],
 "metadata": {
  "kernelspec": {
   "display_name": "Python 3.8.13 ('py38')",
   "language": "python",
   "name": "python3"
  },
  "language_info": {
   "codemirror_mode": {
    "name": "ipython",
    "version": 3
   },
   "file_extension": ".py",
   "mimetype": "text/x-python",
   "name": "python",
   "nbconvert_exporter": "python",
   "pygments_lexer": "ipython3",
   "version": "3.8.13"
  },
  "orig_nbformat": 4,
  "vscode": {
   "interpreter": {
    "hash": "fece4bd51ccce26fe766d1e9ddbf85db10233a5e96d3cc4fa588d515844463b8"
   }
  }
 },
 "nbformat": 4,
 "nbformat_minor": 2
}
