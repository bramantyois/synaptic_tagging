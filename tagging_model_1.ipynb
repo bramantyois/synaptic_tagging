{
 "cells": [
  {
   "cell_type": "code",
   "execution_count": 1,
   "metadata": {},
   "outputs": [],
   "source": [
    "import numpy as np\n",
    "from scipy.integrate import odeint\n",
    "import matplotlib.pyplot as plt"
   ]
  },
  {
   "cell_type": "code",
   "execution_count": 3,
   "metadata": {},
   "outputs": [],
   "source": [
    "def syntag1(y, t, tau_w, stim_func, protein_func):\n",
    "    \"\"\"synaptic tagging model 1. It uses 2 intermediate variables which then would be summed up\n",
    "\n",
    "    Parameters\n",
    "    ----------\n",
    "    y\n",
    "        tuples of voltage to be integrated\n",
    "    t\n",
    "        time vector\n",
    "    tau_w\n",
    "        time constant of voltage\n",
    "    stim_func\n",
    "        stimulus function of time\n",
    "    protein_func\n",
    "        presence of protein in function\n",
    "    \"\"\"\n",
    "    w1, w2 = y\n",
    "\n",
    "    stim = stim_func(t)\n",
    "\n",
    "    fw1 =  (-w1 + stim_func(t))/tau_w\n",
    "    fw2 = -w2*(w2-0.5)*(w2-1) + protein_func(stim)\n",
    "\n",
    "    return [fw1, fw2]"
   ]
  },
  {
   "cell_type": "markdown",
   "metadata": {},
   "source": [
    "# MODEL 1"
   ]
  },
  {
   "cell_type": "code",
   "execution_count": 16,
   "metadata": {},
   "outputs": [],
   "source": [
    "DEL_STIM = 0.5\n",
    "\n",
    "STIM_START = 0.2\n",
    "STIM_STOP = STIM_START + DEL_STIM"
   ]
  },
  {
   "cell_type": "code",
   "execution_count": 17,
   "metadata": {},
   "outputs": [],
   "source": [
    "def stim_func(t):\n",
    "    if t > STIM_START and t <  STIM_STOP:\n",
    "        return 1\n",
    "    return 0\n",
    "\n",
    "def dopa_func(stim):\n",
    "    if stim > 0:\n",
    "        return 1\n",
    "    else:\n",
    "        return 0"
   ]
  },
  {
   "cell_type": "code",
   "execution_count": 22,
   "metadata": {},
   "outputs": [],
   "source": [
    "del_t = 0.01\n",
    "max_t = 20\n",
    "tau_w = 0.1\n",
    "\n",
    "t = np.arange(0, max_t, step=del_t)\n",
    "y0 = 0.1 * np.random.random(2)\n",
    "\n",
    "sol = odeint(syntag1, y0, t, args=(tau_w, stim_func, dopa_func))"
   ]
  },
  {
   "cell_type": "code",
   "execution_count": 19,
   "metadata": {},
   "outputs": [
    {
     "data": {
      "text/plain": [
       "[<matplotlib.lines.Line2D at 0x7f145691e100>]"
      ]
     },
     "execution_count": 19,
     "metadata": {},
     "output_type": "execute_result"
    },
    {
     "data": {
      "image/png": "[encoded data removed]",
      "text/plain": [
       "<Figure size 432x288 with 1 Axes>"
      ]
     },
     "metadata": {
      "needs_background": "light"
     },
     "output_type": "display_data"
    }
   ],
   "source": [
    "plt.plot(t, sol[:, 0])"
   ]
  },
  {
   "cell_type": "code",
   "execution_count": 20,
   "metadata": {},
   "outputs": [
    {
     "data": {
      "text/plain": [
       "[<matplotlib.lines.Line2D at 0x7f14568fb220>]"
      ]
     },
     "execution_count": 20,
     "metadata": {},
     "output_type": "execute_result"
    },
    {
     "data": {
      "image/png": "[encoded data removed]",
      "text/plain": [
       "<Figure size 432x288 with 1 Axes>"
      ]
     },
     "metadata": {
      "needs_background": "light"
     },
     "output_type": "display_data"
    }
   ],
   "source": [
    "plt.plot(t, sol[:, 1])"
   ]
  },
  {
   "cell_type": "code",
   "execution_count": 21,
   "metadata": {},
   "outputs": [
    {
     "data": {
      "text/plain": [
       "[<matplotlib.lines.Line2D at 0x7f1456865fd0>]"
      ]
     },
     "execution_count": 21,
     "metadata": {},
     "output_type": "execute_result"
    },
    {
     "data": {
      "image/png": "[encoded data removed]",
      "text/plain": [
       "<Figure size 432x288 with 1 Axes>"
      ]
     },
     "metadata": {
      "needs_background": "light"
     },
     "output_type": "display_data"
    }
   ],
   "source": [
    "w = sol[:, 1] + sol[:, 0]\n",
    "\n",
    "plt.plot(t, w)"
   ]
  },
  {
   "cell_type": "markdown",
   "metadata": {},
   "source": [
    "# MODEL 2"
   ]
  },
  {
   "cell_type": "code",
   "execution_count": 67,
   "metadata": {},
   "outputs": [],
   "source": [
    "def syntag2(y, t, tc_short, tc_long, stim_func, dopa_func):\n",
    "    \"\"\"synaptic tagging model2. time constant of voltage were modulated by dopamine function\n",
    "\n",
    "    Parameters\n",
    "    ----------\n",
    "    y\n",
    "        tuples of voltage and time constant to be integrated\n",
    "    t\n",
    "        time\n",
    "    tc_short\n",
    "        short time contant when dopamine does not modulating \n",
    "    tc_long\n",
    "        long time constant when dopamine is modulating\n",
    "    stim_func\n",
    "        stimulus function of time\n",
    "    dopa\n",
    "        presence of dopamine\n",
    "    \"\"\"\n",
    "    w, gamma = y\n",
    "    \n",
    "    stim = stim_func(t)\n",
    "\n",
    "    f_w = (-w + stim) * gamma\n",
    "    f_gamma = -gamma * (gamma - 1/tc_long) * (gamma - 1/tc_short) + dopa_func(stim)\n",
    "\n",
    "    return [f_w, f_gamma]"
   ]
  },
  {
   "cell_type": "code",
   "execution_count": 90,
   "metadata": {},
   "outputs": [],
   "source": [
    "DEL_STIM = 1\n",
    "\n",
    "STIM_START = 0.1\n",
    "STIM_STOP = STIM_START + DEL_STIM\n",
    "\n"
   ]
  },
  {
   "cell_type": "code",
   "execution_count": 91,
   "metadata": {},
   "outputs": [],
   "source": [
    "def stim_func(t):\n",
    "    if t > STIM_START and t <  STIM_STOP:\n",
    "        return 1\n",
    "    return 0\n",
    "\n",
    "def dopa_func(stim):\n",
    "    if stim > 0:\n",
    "        return 1\n",
    "    else:\n",
    "        return 0"
   ]
  },
  {
   "cell_type": "code",
   "execution_count": 92,
   "metadata": {},
   "outputs": [],
   "source": [
    "del_t = 0.01\n",
    "max_t = 20\n",
    "\n",
    "t = np.arange(0, max_t, step=del_t)\n",
    "y0 = [0., 0]\n",
    "\n",
    "sol2 = odeint(syntag2, y0, t, args=(100000, 1000, stim_func, dopa_func))"
   ]
  },
  {
   "cell_type": "code",
   "execution_count": 93,
   "metadata": {},
   "outputs": [
    {
     "data": {
      "text/plain": [
       "[<matplotlib.lines.Line2D at 0x7fc5c0ca0b80>]"
      ]
     },
     "execution_count": 93,
     "metadata": {},
     "output_type": "execute_result"
    },
    {
     "data": {
      "image/png": "[encoded data removed]",
      "text/plain": [
       "<Figure size 432x288 with 1 Axes>"
      ]
     },
     "metadata": {
      "needs_background": "light"
     },
     "output_type": "display_data"
    }
   ],
   "source": [
    "plt.plot(t, sol2[:, 0])"
   ]
  },
  {
   "cell_type": "code",
   "execution_count": 94,
   "metadata": {},
   "outputs": [
    {
     "data": {
      "text/plain": [
       "[<matplotlib.lines.Line2D at 0x7fc5c0c157f0>]"
      ]
     },
     "execution_count": 94,
     "metadata": {},
     "output_type": "execute_result"
    },
    {
     "data": {
      "image/png": "[encoded data removed]",
      "text/plain": [
       "<Figure size 432x288 with 1 Axes>"
      ]
     },
     "metadata": {
      "needs_background": "light"
     },
     "output_type": "display_data"
    }
   ],
   "source": [
    "plt.plot(t, sol2[:, 1])"
   ]
  },
  {
   "cell_type": "code",
   "execution_count": null,
   "metadata": {},
   "outputs": [],
   "source": []
  }
 ],
 "metadata": {
  "kernelspec": {
   "display_name": "Python 3.8.13 ('py38')",
   "language": "python",
   "name": "python3"
  },
  "language_info": {
   "codemirror_mode": {
    "name": "ipython",
    "version": 3
   },
   "file_extension": ".py",
   "mimetype": "text/x-python",
   "name": "python",
   "nbconvert_exporter": "python",
   "pygments_lexer": "ipython3",
   "version": "3.8.13"
  },
  "orig_nbformat": 4,
  "vscode": {
   "interpreter": {
    "hash": "a384e4ac6d9cd9ca61078b14e0e681387b788dda3827029c74a4a71077507a0e"
   }
  }
 },
 "nbformat": 4,
 "nbformat_minor": 2
}
